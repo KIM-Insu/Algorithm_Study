{
 "cells": [
  {
   "cell_type": "code",
   "execution_count": null,
   "metadata": {},
   "outputs": [],
   "source": [
    "def solution(numbers, hand):\n",
    "    answer = ''\n",
    "\n",
    "    d = {1 : [3,0], 2 : [3,1], 3 : [3,2],\n",
    "         4 : [2,0], 5 : [2,1], 6 : [2,2],\n",
    "         7 : [1,0], 8 : [1,1], 9 : [1,2],\n",
    "         \"*\" : [0,0], 0 : [0,1], \"#\" : [0,2]}\n",
    "\n",
    "    left = d['*']\n",
    "    right = d['#']  \n",
    "\n",
    "    for i in numbers:\n",
    "        num = d[i]    \n",
    "        if i in [1,4,7]:\n",
    "            answer += \"L\"\n",
    "            left = num\n",
    "        elif i in [3,6,9]:\n",
    "            answer += \"R\"\n",
    "            right = num\n",
    "        elif i in [2,5,8,0]:\n",
    "            left_d = abs(left[0] - num[0]) + abs(left[1] - num[1])\n",
    "            right_d = abs(right[0] - num[0]) + abs(right[1] - num[1])\n",
    "\n",
    "            if left_d < right_d:\n",
    "                answer += \"L\"\n",
    "                left = num\n",
    "            elif left_d > right_d:\n",
    "                answer += \"R\"\n",
    "                right = num\n",
    "            else:\n",
    "                if hand == 'left':\n",
    "                    answer += \"L\"\n",
    "                    left = num\n",
    "                else:\n",
    "                    answer += \"R\"\n",
    "                    right = num\n",
    "    return answer"
   ]
  },
  {
   "cell_type": "code",
   "execution_count": null,
   "metadata": {},
   "outputs": [],
   "source": []
  }
 ],
 "metadata": {
  "language_info": {
   "name": "python"
  }
 },
 "nbformat": 4,
 "nbformat_minor": 2
}
